{
 "cells": [
  {
   "cell_type": "code",
   "execution_count": 1,
   "metadata": {},
   "outputs": [
    {
     "name": "stdout",
     "output_type": "stream",
     "text": [
      "tensor([[[ 0.0247,  0.0589, -0.0889, -0.0368]]], grad_fn=<AddBackward0>)\n",
      "tensor([[[ 0.0242,  0.0701, -0.0995, -0.0472]]], grad_fn=<AddBackward0>)\n",
      "tensor([[[ 0.0282,  0.0415, -0.0946, -0.0309]]], grad_fn=<AddBackward0>)\n",
      "tensor([[[ 0.0145,  0.0432, -0.0910, -0.0362]]], grad_fn=<AddBackward0>)\n",
      "tensor([[[ 0.0401,  0.0225, -0.0917, -0.0261]]], grad_fn=<AddBackward0>)\n",
      "tensor([[[ 0.0282,  0.0451, -0.0869, -0.0201]]], grad_fn=<AddBackward0>)\n",
      "tensor([[[ 0.0316,  0.0445, -0.1057, -0.0609]]], grad_fn=<AddBackward0>)\n",
      "tensor([[[ 0.0359,  0.0243, -0.0818, -0.0447]]], grad_fn=<AddBackward0>)\n",
      "tensor([[[ 0.0173,  0.0338, -0.0979, -0.0541]]], grad_fn=<AddBackward0>)\n",
      "tensor([[[-0.0123,  0.0766, -0.1015, -0.0729]]], grad_fn=<AddBackward0>)\n"
     ]
    }
   ],
   "source": [
    "import torch\n",
    "import torch.nn as nn\n",
    "import numpy as np\n",
    "from torch.autograd import Variable\n",
    "\n",
    "class rf_agent(nn.Module):\n",
    "    def __init__(self):\n",
    "        super(rf_agent, self).__init__()\n",
    "        \n",
    "        self.layer1=nn.Sequential(nn.Conv2d(1,15,kernel_size=4,\n",
    "        stride=2,padding=1),\n",
    "        nn.ReLU(inplace=True))\n",
    "        \n",
    "        self.layer2=nn.Sequential(nn.Conv2d(15,30,kernel_size=2,\n",
    "        stride=2,padding=0),\n",
    "        nn.ReLU(inplace=True))\n",
    "        \n",
    "        self.layer3=nn.LSTM(270, 120)\n",
    "        \n",
    "        self.last_layer=nn.Linear(120,4)\n",
    "        \n",
    "        self.reset()\n",
    "\n",
    "        \n",
    "\n",
    "    def forward(self, x):\n",
    "        x=self.layer1(x)\n",
    "        x=self.layer2(x)       \n",
    "        x = x.view(1,x.size()[0], -1)\n",
    "        x,self.hidden=self.layer3(x,self.hidden)\n",
    "        \n",
    "        x=self.last_layer(x)\n",
    "        return x\n",
    "    \n",
    "    def reset(self):\n",
    "        self.hidden = (Variable(torch.zeros(1, 1,120)),Variable(torch.zeros(1, 1,120)))\n",
    "                       \n",
    "model=rf_agent()\n",
    "\n",
    "x=torch.tensor(np.random.randn(10,1,15,15)).float() \n",
    "\n",
    "for data in x:\n",
    "    data=data.reshape(1,1,15,15)\n",
    "    y=model(data)\n",
    "    print(y)"
   ]
  },
  {
   "cell_type": "code",
   "execution_count": 3,
   "metadata": {},
   "outputs": [
    {
     "ename": "ValueError",
     "evalue": "too many values to unpack (expected 4)",
     "output_type": "error",
     "traceback": [
      "\u001b[0;31m---------------------------------------------------------------------------\u001b[0m",
      "\u001b[0;31mValueError\u001b[0m                                Traceback (most recent call last)",
      "\u001b[0;32m<ipython-input-3-72068b2ecc53>\u001b[0m in \u001b[0;36m<module>\u001b[0;34m\u001b[0m\n\u001b[1;32m     19\u001b[0m \u001b[0;34m\u001b[0m\u001b[0m\n\u001b[1;32m     20\u001b[0m \u001b[0menv\u001b[0m\u001b[0;34m=\u001b[0m\u001b[0mgrid_world\u001b[0m\u001b[0;34m(\u001b[0m\u001b[0;34m)\u001b[0m\u001b[0;34m\u001b[0m\u001b[0;34m\u001b[0m\u001b[0m\n\u001b[0;32m---> 21\u001b[0;31m \u001b[0magent_pos1\u001b[0m\u001b[0;34m,\u001b[0m\u001b[0magent_pos2\u001b[0m\u001b[0;34m,\u001b[0m\u001b[0magent_pos3\u001b[0m\u001b[0;34m,\u001b[0m\u001b[0magent_inp_pos\u001b[0m\u001b[0;34m=\u001b[0m\u001b[0menv\u001b[0m\u001b[0;34m.\u001b[0m\u001b[0mreset\u001b[0m\u001b[0;34m(\u001b[0m\u001b[0;34m)\u001b[0m\u001b[0;34m\u001b[0m\u001b[0;34m\u001b[0m\u001b[0m\n\u001b[0m\u001b[1;32m     22\u001b[0m \u001b[0mtrain_dataset\u001b[0m\u001b[0;34m=\u001b[0m\u001b[0;34m[\u001b[0m\u001b[0;34m]\u001b[0m\u001b[0;34m\u001b[0m\u001b[0;34m\u001b[0m\u001b[0m\n\u001b[1;32m     23\u001b[0m \u001b[0mcriterion\u001b[0m\u001b[0;34m=\u001b[0m\u001b[0mnn\u001b[0m\u001b[0;34m.\u001b[0m\u001b[0mCrossEntropyLoss\u001b[0m\u001b[0;34m(\u001b[0m\u001b[0;34m)\u001b[0m\u001b[0;34m\u001b[0m\u001b[0;34m\u001b[0m\u001b[0m\n",
      "\u001b[0;31mValueError\u001b[0m: too many values to unpack (expected 4)"
     ]
    }
   ],
   "source": [
    "import pygame\n",
    "import sys, os\n",
    "import random\n",
    "import torch\n",
    "import torch.nn as nn\n",
    "\n",
    "import numpy as np\n",
    "from copy import copy\n",
    "from pygame.locals import *\n",
    "from gridworld import grid_world\n",
    "from policy import Inp, Crew\n",
    "from rf_network import rf_agent\n",
    "from utils import im2col\n",
    "import torch.nn.functional as F\n",
    "import torch.optim as optim\n",
    "\n",
    "\n",
    "\n",
    "\n",
    "env=grid_world()\n",
    "agent_pos1,agent_pos2,agent_pos3,agent_inp_pos=env.reset()\n",
    "train_dataset=[]\n",
    "criterion=nn.CrossEntropyLoss()\n",
    "\n",
    "cr1=Crew()\n",
    "cr2=Crew()\n",
    "cr3=Crew()\n",
    "inp=Inp()\n",
    "action_inp=0\n",
    "Start=False\n",
    "model=rf_agent()\n",
    "for num in range(3):\n",
    "    train_data=[]\n",
    "    train_label=[]\n",
    "    cycle=0\n",
    "    while True:\n",
    "        #env.render()\n",
    "        for event in pygame.event.get():\n",
    "            if event.type == KEYDOWN:\n",
    "                Start=True\n",
    "        if Start==False:\n",
    "            continue\n",
    "        action1=cr1.forward(agent_pos1,agent_inp_pos)\n",
    "        action2=cr2.forward(agent_pos2,agent_inp_pos)\n",
    "        action3=cr3.forward(agent_pos3,agent_inp_pos)\n",
    "        action_inp=inp.forward(agent_inp_pos,agent_pos1,agent_pos2,agent_pos3)\n",
    "        agent_pos1,agent_pos2,agent_pos3,agent_inp_pos,done,data=env.step(action1,action2,action3,action_inp)\n",
    "        inp_f=agent_inp_pos[0]//15+3*(agent_inp_pos[1]//15)\n",
    "        cycle=(cycle+1)%30\n",
    "        \n",
    "        \n",
    "        \n",
    "        #train_data.append(data)\n",
    "        #train_label.append([action1,action2,action3,action_inp])\n",
    "        if cycle==0:\n",
    "            data=data.reshape(1,1,60,45)\n",
    "            data=im2col(data,15,15,15)\n",
    "\n",
    "            \n",
    "            d=torch.tensor(data[:,inp_f,:,:].reshape(1,1,15,15)).float()\n",
    "            y=model(d)\n",
    "            label=torch.tensor(action_inp)\n",
    "            loss=criterion(y,label)\n",
    "            print(loss)\n",
    "            \"\"\"\"if len(train_data)==0:\n",
    "                train_data=data\n",
    "                train_label=action_inp\n",
    "            else:\n",
    "                train_data=np.vstack([train_data,data])\n",
    "                train_label=np.vstack([train_label,action_inp])\"\"\"\n",
    "    \n",
    "        if done==True:\n",
    "            agent_pos1,agent_pos2,agent_pos3,agent_inp_pos=env.reset()\n",
    "            model.reset()\n",
    "            \n",
    "            print('episode{} finished!'.format(num))\n",
    "            break\n",
    "\n",
    "\n",
    "\n",
    "\n",
    "    pygame.display.flip()"
   ]
  },
  {
   "cell_type": "code",
   "execution_count": 13,
   "metadata": {},
   "outputs": [],
   "source": [
    "from utils import im2col\n",
    "\n",
    "d=train_data.reshape(-1,1,60,45)\n",
    "d=im2col(d,15,15,15)"
   ]
  },
  {
   "cell_type": "code",
   "execution_count": 52,
   "metadata": {},
   "outputs": [
    {
     "data": {
      "text/plain": [
       "tensor([[ 0.0293, -1.9780, -0.1416, -0.0460,  0.5663, -0.2847, -1.4861,  1.2004,\n",
       "          0.1414,  0.3929],\n",
       "        [-0.7073,  0.5140,  1.7092,  0.9273, -0.6131,  1.8087, -1.5484,  0.3158,\n",
       "          0.4164, -1.0406],\n",
       "        [-0.3177, -0.2155, -2.4730, -0.4629, -1.7920,  0.4787, -0.4281, -1.5473,\n",
       "          1.4223, -0.9630],\n",
       "        [ 1.0059, -1.2744, -0.6129,  0.3236,  1.6436,  0.1316, -0.1441, -0.7278,\n",
       "          0.4666,  0.4735],\n",
       "        [-1.3644,  0.5745,  3.0385, -1.5359,  0.6655,  0.4070, -1.2996,  0.2000,\n",
       "         -1.3929, -0.2883],\n",
       "        [ 0.2740,  1.3945, -3.0087, -1.1995,  0.6598,  0.4671, -0.9221, -1.3103,\n",
       "          0.5970,  1.2085],\n",
       "        [-1.2940,  1.0679, -0.7401, -0.8908, -1.8026,  0.2566, -1.7485, -0.7871,\n",
       "          2.0037,  0.7893],\n",
       "        [-1.1613,  0.6078, -0.9464,  2.0103,  0.2073, -1.0235, -0.2593, -0.7512,\n",
       "          0.0337,  0.9386],\n",
       "        [ 0.4640, -0.0389, -0.5273,  0.0188, -1.1344,  0.5910,  1.2540,  0.5233,\n",
       "         -1.7280,  1.7434],\n",
       "        [-0.6744, -0.7382, -0.0726,  1.4851,  0.6537, -0.7826, -0.3913, -1.9155,\n",
       "         -0.7651, -1.9015],\n",
       "        [-0.3343, -0.6297, -0.8459, -0.7515,  0.8592,  0.7180, -0.0684,  0.3728,\n",
       "          0.1228,  0.8605],\n",
       "        [ 1.1668,  0.4504,  0.3644, -0.4693, -0.7165,  0.2866,  0.3941, -0.4809,\n",
       "          0.2903,  0.3396],\n",
       "        [-0.1377,  0.0294, -0.5855, -0.1905,  0.0576, -1.2436,  0.0708,  1.0888,\n",
       "          0.3188, -0.6002],\n",
       "        [ 1.8054,  0.6560,  0.2821,  0.6982,  0.8764,  0.8039, -1.0882,  2.2072,\n",
       "          1.8693,  0.2883],\n",
       "        [ 0.7155, -1.2488,  1.0095, -0.9064, -0.6731, -0.8609,  0.7115,  1.5730,\n",
       "          0.5536, -0.9311],\n",
       "        [-0.2526,  0.0261,  1.9596, -0.2173, -0.4797,  0.2051,  0.8548, -1.7113,\n",
       "         -1.2112,  0.7095],\n",
       "        [-0.8325,  1.1832, -0.0685, -1.0881,  1.8367, -1.7806,  0.5074, -0.0083,\n",
       "         -1.1227, -0.1304],\n",
       "        [ 0.2305,  0.2328, -0.0705,  0.1776, -0.3160, -0.4251, -0.1648,  0.8554,\n",
       "         -0.8908, -2.2509],\n",
       "        [-1.1530,  1.2160,  0.4870,  0.5635,  0.0818, -0.3135,  1.0900, -0.0387,\n",
       "          0.6504,  0.0444],\n",
       "        [-0.2366,  0.1555, -0.1154,  0.4405, -0.9107,  0.4596,  0.2280, -0.1478,\n",
       "          0.2166, -1.6818],\n",
       "        [ 1.9139, -0.2970, -0.4423, -0.1927, -1.3359, -0.6228,  0.6331, -1.7682,\n",
       "         -0.1503, -0.5765],\n",
       "        [ 1.0246, -0.6155, -2.2041,  0.3995, -0.3689,  1.7975,  2.7562, -0.1264,\n",
       "         -2.4667,  2.5580],\n",
       "        [-0.6685, -1.0202, -1.4357,  0.5221,  1.7543, -0.8710, -1.3619,  1.9151,\n",
       "          1.2205, -0.3256],\n",
       "        [-1.1171, -1.1600, -1.4410,  1.0592, -0.1725,  0.6252, -0.9361, -0.6110,\n",
       "          0.7236, -0.0585],\n",
       "        [ 0.5028,  0.0617,  1.4566,  1.6433,  0.5633, -0.1151,  0.0482,  0.7395,\n",
       "          0.9318, -0.4213],\n",
       "        [-0.7288,  0.0044,  0.9497, -0.5611,  1.2363,  1.5773,  0.3902, -1.2187,\n",
       "          0.0973, -0.8802],\n",
       "        [-0.8987,  0.6617,  1.4465, -1.1450,  0.6986,  1.3212, -0.1865,  0.6079,\n",
       "         -0.2667, -0.7445],\n",
       "        [ 1.1146,  2.3824, -0.1454, -0.4393, -0.9503, -1.5662, -1.4416,  0.2816,\n",
       "          1.4441,  0.8302],\n",
       "        [ 1.1302, -0.1324,  1.1435,  1.0720,  0.0961, -0.5556, -0.6819, -0.0469,\n",
       "          1.5938,  0.9045],\n",
       "        [ 1.2600, -0.4958, -0.3845,  1.6349,  0.4323, -0.4176,  1.1823, -0.6815,\n",
       "         -0.1966,  0.7354],\n",
       "        [ 0.7100,  1.7405,  0.0758, -1.6853,  0.1059,  1.0220, -0.3162, -0.5334,\n",
       "          0.7569,  0.9622],\n",
       "        [ 1.7868, -1.1774, -1.0549, -1.4690, -0.4117,  0.4734, -1.1773, -0.3507,\n",
       "         -1.8361, -0.4824],\n",
       "        [-1.3826,  0.0536,  0.1839, -0.9460, -0.9151,  0.3368,  1.8451, -0.2847,\n",
       "         -0.1366, -0.7081],\n",
       "        [ 0.6450,  0.2285,  0.0939, -0.7153,  0.7505,  0.8661, -0.7480, -1.3629,\n",
       "          0.5700,  0.3665],\n",
       "        [-0.0914,  0.7724, -0.7581, -1.0969, -0.5504, -1.2602,  0.6700, -1.4586,\n",
       "         -1.4168, -0.4138],\n",
       "        [ 0.0734, -0.3518,  0.2568, -0.2842, -0.8066,  0.7628, -0.1444,  0.9771,\n",
       "          0.8120, -0.9529],\n",
       "        [-0.6844,  1.1145,  0.3918, -1.1621, -0.8488,  0.5920,  0.1396,  1.3170,\n",
       "         -0.8772, -1.0553],\n",
       "        [-1.7282,  0.2294,  0.2019, -0.5795, -1.7590, -0.1884, -0.7106,  0.9775,\n",
       "          0.7316, -0.0598],\n",
       "        [-1.2600, -1.1757,  1.1208, -0.5982,  0.4404,  0.9172,  1.6504,  0.1484,\n",
       "         -1.0263,  0.1285],\n",
       "        [-0.8712, -1.8147,  1.6291, -1.1933,  0.0807,  1.0270,  0.7706, -1.4403,\n",
       "          0.3896, -0.4021],\n",
       "        [ 1.5680,  0.2012,  0.6590, -0.4253,  0.0696, -0.4168,  2.1984,  0.4719,\n",
       "          0.7557,  0.7862],\n",
       "        [ 0.9059,  0.2230,  0.4617,  0.0124, -0.6038, -0.1176, -1.1758, -0.1424,\n",
       "         -1.1620, -0.6250],\n",
       "        [ 0.0560,  0.5598,  0.3474,  0.0045,  0.3521,  0.8942,  0.8804,  0.2008,\n",
       "          0.6229, -0.5635],\n",
       "        [-1.0344, -0.0384, -0.0988,  0.9281, -0.5276,  0.1337,  0.8017,  0.7124,\n",
       "         -1.0713, -1.5377],\n",
       "        [ 0.5020,  1.5370, -1.0423, -0.3500, -0.4574,  0.6223,  0.5937,  0.2930,\n",
       "          0.7647,  0.6934],\n",
       "        [ 1.2765, -1.0473, -1.1394,  0.0367, -0.0845,  1.3650, -0.7481,  1.6806,\n",
       "         -1.7500, -0.9895],\n",
       "        [-0.0870, -1.3491, -1.1214, -1.7204, -0.6863, -1.2580, -0.1994, -0.8791,\n",
       "         -0.2047,  3.0239],\n",
       "        [ 0.6927, -1.0849,  1.5244,  0.2866, -1.5902,  1.3946, -1.3674,  0.5314,\n",
       "         -0.1933,  0.6407],\n",
       "        [-0.3233,  1.1911, -0.4018,  0.0038,  1.9062,  1.0629,  0.4835, -0.5541,\n",
       "          1.7315, -0.9250],\n",
       "        [-0.5226, -0.1382, -1.6880,  1.3168, -3.0829, -1.9232,  0.8651,  0.1717,\n",
       "         -1.8071,  1.0146],\n",
       "        [-0.3241,  1.0520,  1.8048, -0.0322,  1.8405, -0.0879,  0.0933,  0.8569,\n",
       "          1.9737,  1.5072],\n",
       "        [ 1.8477, -0.3811,  1.2045, -0.3877, -0.9834, -0.1079,  0.4926,  0.3988,\n",
       "         -0.5293,  0.4749],\n",
       "        [ 0.8510, -1.2271, -1.4374,  0.7551, -0.3990,  1.9699,  0.4583, -0.9820,\n",
       "         -1.6614,  0.9742],\n",
       "        [-3.5646, -1.1331, -0.2061,  1.2957, -2.0708,  0.3542, -0.5200,  0.3223,\n",
       "          1.1427, -0.1339],\n",
       "        [-0.0849,  1.3720, -0.2586,  1.4100, -0.9665,  0.5310, -0.1438, -1.4518,\n",
       "         -0.3808, -0.7953],\n",
       "        [ 0.2162,  0.6178,  0.4470,  0.2017, -1.6354, -0.3477,  0.0471, -0.1018,\n",
       "         -0.8631, -0.3598],\n",
       "        [ 0.4370,  1.1375,  0.1886,  1.0201,  0.2422,  0.7510, -1.0682,  0.7057,\n",
       "         -0.8976, -0.8984],\n",
       "        [ 1.3565, -2.0549,  0.1343,  0.1666,  0.0836, -0.6121,  1.4827, -0.0083,\n",
       "          1.1104,  1.0046],\n",
       "        [-0.4625, -0.7471,  0.0992, -0.6753,  0.7175,  0.5359, -1.4691, -1.5779,\n",
       "         -0.1754, -0.4145],\n",
       "        [ 0.3532, -1.9513,  0.1049, -0.6374, -2.3574,  0.1414,  0.5265, -0.5222,\n",
       "          0.3487, -0.0282],\n",
       "        [ 0.4484,  0.7659,  0.4621, -1.6670, -0.6171,  1.6069,  0.4414,  0.4103,\n",
       "          0.6529,  0.1688],\n",
       "        [-0.7278, -0.5219, -0.4868, -1.2539, -0.0652,  0.0961, -1.1549,  2.5384,\n",
       "         -0.4016,  0.1431],\n",
       "        [-1.3337, -0.4298, -0.7058,  0.9481,  0.3283, -0.1599, -1.4995,  0.5140,\n",
       "         -1.2644,  1.2963],\n",
       "        [ 1.2224, -0.3899,  0.0837, -0.9708, -0.8953, -0.2712,  0.9804,  0.7241,\n",
       "         -0.2428,  0.0996]])"
      ]
     },
     "execution_count": 52,
     "metadata": {},
     "output_type": "execute_result"
    }
   ],
   "source": [
    "N = 64\n",
    "y = torch.empty(N, dtype=torch.long).random_(10)\n",
    "yPred = torch.randn(N, 10)\n",
    "yPred"
   ]
  },
  {
   "cell_type": "code",
   "execution_count": 12,
   "metadata": {},
   "outputs": [
    {
     "data": {
      "text/plain": [
       "(12, 15, 15)"
      ]
     },
     "execution_count": 12,
     "metadata": {},
     "output_type": "execute_result"
    }
   ],
   "source": [
    "def im2col(input_data, filter_h, filter_w, stride=1, pad=0):\n",
    "\n",
    "    N, C, H, W = input_data.shape\n",
    "    out_h = (H + 2*pad - filter_h)//stride + 1\n",
    "    out_w = (W + 2*pad - filter_w)//stride + 1\n",
    "\n",
    "    img = np.pad(input_data, [(0,0), (0,0), (pad, pad), (pad, pad)], 'constant')\n",
    "    col = np.zeros((N, C, filter_h, filter_w, out_h, out_w))\n",
    "\n",
    "    for y in range(filter_h):\n",
    "        y_max = y + stride*out_h\n",
    "        for x in range(filter_w):\n",
    "            x_max = x + stride*out_w\n",
    "            col[:, :, y, x, :, :] = img[:, :, y:y_max:stride, x:x_max:stride]\n",
    "\n",
    "    col = col.transpose(0, 4, 5, 1, 2, 3)\n",
    "    return col.reshape(12,15,15).astype('int')\n",
    "\n",
    "#d=np.arange(0,45*60)\n",
    "#d=d.reshape(1,1,45,60)\n",
    "d=data.reshape(1,1,60,45)\n",
    "d=im2col(d,15,15,stride=15)\n",
    "d.shape"
   ]
  },
  {
   "cell_type": "code",
   "execution_count": 20,
   "metadata": {},
   "outputs": [
    {
     "data": {
      "text/plain": [
       "(1, 12, 15, 15)"
      ]
     },
     "execution_count": 20,
     "metadata": {},
     "output_type": "execute_result"
    }
   ],
   "source": [
    "data.shape"
   ]
  },
  {
   "cell_type": "code",
   "execution_count": 40,
   "metadata": {},
   "outputs": [
    {
     "data": {
      "text/plain": [
       "(3, 2, 8)"
      ]
     },
     "execution_count": 40,
     "metadata": {},
     "output_type": "execute_result"
    }
   ],
   "source": [
    "x=np.random.randn(1,2,8)\n",
    "y=np.random.randn(2,2,8)\n",
    "np.vstack([y,x]).shape"
   ]
  },
  {
   "cell_type": "code",
   "execution_count": 22,
   "metadata": {},
   "outputs": [
    {
     "data": {
      "text/plain": [
       "(1, 8)"
      ]
     },
     "execution_count": 22,
     "metadata": {},
     "output_type": "execute_result"
    }
   ],
   "source": [
    "x.reshape(1,-1).shape"
   ]
  },
  {
   "cell_type": "code",
   "execution_count": 36,
   "metadata": {},
   "outputs": [
    {
     "data": {
      "text/plain": [
       "torch.Size([1, 2])"
      ]
     },
     "execution_count": 36,
     "metadata": {},
     "output_type": "execute_result"
    }
   ],
   "source": [
    "import torch\n",
    "import torch.nn as nn\n",
    "import torchvision.transforms as transforms\n",
    "from torchvision.datasets import MNIST\n",
    "from torch.utils.data import DataLoader\n",
    "import numpy as np\n",
    "import matplotlib.pyplot as plt\n",
    "\n",
    "class CNN(nn.Module):\n",
    "    def __init__(self):\n",
    "        super(CNN, self).__init__()\n",
    "        \n",
    "        self.layer1 = nn.Sequential(\n",
    "            nn.Conv2d(1, 16, kernel_size=5, padding=2),\n",
    "            nn.BatchNorm2d(16),\n",
    "            nn.ReLU(),\n",
    "            nn.MaxPool2d(2))\n",
    "        self.layer2 = nn.Sequential(\n",
    "            nn.Conv2d(16, 32, kernel_size=5, padding=2),\n",
    "            nn.BatchNorm2d(32),\n",
    "            nn.ReLU(),\n",
    "            nn.MaxPool2d(2))\n",
    "        self.fc = nn.Linear(288, 3)\n",
    "        \n",
    "        \n",
    "    def forward(self, x):\n",
    "        x = self.layer1(x)\n",
    "        x = self.layer2(x)\n",
    "        x = x.view(x.size(0), -1)\n",
    "        x = self.fc(x)\n",
    "        return x\n",
    "#device = torch.device('cuda' if torch.cuda.is_available() else 'cpu')\n",
    "model = CNN()\n",
    "\n",
    "'''最適化手法の定義'''\n",
    "criterion = nn.MSELoss() \n",
    "optimizer = torch.optim.Adam(model.parameters(), lr=0.01)\n",
    "\n",
    "x=data[0][1].reshape(1,1,15,15)\n",
    "x=model(torch.tensor(x).float())\n"
   ]
  },
  {
   "cell_type": "code",
   "execution_count": 1,
   "metadata": {},
   "outputs": [
    {
     "name": "stdout",
     "output_type": "stream",
     "text": [
      "pygame 2.0.0.dev6 (SDL 2.0.10, python 3.7.3)\n",
      "Hello from the pygame community. https://www.pygame.org/contribute.html\n"
     ]
    },
    {
     "name": "stderr",
     "output_type": "stream",
     "text": [
      "ERROR:root:Internal Python error in the inspect module.\n",
      "Below is the traceback from this internal error.\n",
      "\n"
     ]
    },
    {
     "name": "stdout",
     "output_type": "stream",
     "text": [
      "Traceback (most recent call last):\n",
      "  File \"/Users/tataraishouta/anaconda3/lib/python3.7/site-packages/IPython/core/interactiveshell.py\", line 3296, in run_code\n",
      "    exec(code_obj, self.user_global_ns, self.user_ns)\n",
      "  File \"<ipython-input-1-2f404972b82d>\", line 25, in <module>\n",
      "    env.render()\n",
      "  File \"/Users/tataraishouta/Documents/game/gridworld.py\", line 145, in render\n",
      "    (chip_list[c],(self.grid_size, self.grid_size)))\n",
      "KeyboardInterrupt\n",
      "\n",
      "During handling of the above exception, another exception occurred:\n",
      "\n",
      "Traceback (most recent call last):\n",
      "  File \"/Users/tataraishouta/anaconda3/lib/python3.7/site-packages/IPython/core/interactiveshell.py\", line 2033, in showtraceback\n",
      "    stb = value._render_traceback_()\n",
      "AttributeError: 'KeyboardInterrupt' object has no attribute '_render_traceback_'\n",
      "\n",
      "During handling of the above exception, another exception occurred:\n",
      "\n",
      "Traceback (most recent call last):\n",
      "  File \"/Users/tataraishouta/anaconda3/lib/python3.7/site-packages/IPython/core/ultratb.py\", line 1095, in get_records\n",
      "    return _fixed_getinnerframes(etb, number_of_lines_of_context, tb_offset)\n",
      "  File \"/Users/tataraishouta/anaconda3/lib/python3.7/site-packages/IPython/core/ultratb.py\", line 313, in wrapped\n",
      "    return f(*args, **kwargs)\n",
      "  File \"/Users/tataraishouta/anaconda3/lib/python3.7/site-packages/IPython/core/ultratb.py\", line 347, in _fixed_getinnerframes\n",
      "    records = fix_frame_records_filenames(inspect.getinnerframes(etb, context))\n",
      "  File \"/Users/tataraishouta/anaconda3/lib/python3.7/inspect.py\", line 1502, in getinnerframes\n",
      "    frameinfo = (tb.tb_frame,) + getframeinfo(tb, context)\n",
      "  File \"/Users/tataraishouta/anaconda3/lib/python3.7/inspect.py\", line 1460, in getframeinfo\n",
      "    filename = getsourcefile(frame) or getfile(frame)\n",
      "  File \"/Users/tataraishouta/anaconda3/lib/python3.7/inspect.py\", line 696, in getsourcefile\n",
      "    if getattr(getmodule(object, filename), '__loader__', None) is not None:\n",
      "  File \"/Users/tataraishouta/anaconda3/lib/python3.7/inspect.py\", line 742, in getmodule\n",
      "    os.path.realpath(f)] = module.__name__\n",
      "  File \"/Users/tataraishouta/anaconda3/lib/python3.7/posixpath.py\", line 395, in realpath\n",
      "    path, ok = _joinrealpath(filename[:0], filename, {})\n",
      "  File \"/Users/tataraishouta/anaconda3/lib/python3.7/posixpath.py\", line 429, in _joinrealpath\n",
      "    if not islink(newpath):\n",
      "  File \"/Users/tataraishouta/anaconda3/lib/python3.7/posixpath.py\", line 171, in islink\n",
      "    st = os.lstat(path)\n",
      "KeyboardInterrupt\n"
     ]
    },
    {
     "ename": "KeyboardInterrupt",
     "evalue": "",
     "output_type": "error",
     "traceback": [
      "\u001b[0;31m---------------------------------------------------------------------------\u001b[0m"
     ]
    }
   ],
   "source": [
    "import pygame\n",
    "import sys, os\n",
    "import random\n",
    "\n",
    "import numpy as np\n",
    "from copy import copy\n",
    "from pygame.locals import *\n",
    "from gridworld import grid_world\n",
    "from policy import Inp, Crew\n",
    "\n",
    "\n",
    "\n",
    "\n",
    "env=grid_world()\n",
    "agent_pos1,agent_pos2,agent_pos3,agent_inp_pos,data=env.reset()\n",
    "\n",
    "cr1=Crew()\n",
    "cr2=Crew()\n",
    "cr3=Crew()\n",
    "inp=Inp()\n",
    "action_inp=0\n",
    "Start=False\n",
    "i=0\n",
    "while True:\n",
    "    env.render()\n",
    "    for event in pygame.event.get():\n",
    "        if event.type == KEYDOWN:\n",
    "            Start=True\n",
    "    if Start==False:\n",
    "        continue\n",
    "    action1=cr1.forward(agent_pos1,agent_inp_pos,data)\n",
    "    action2=cr2.forward(agent_pos2,agent_inp_pos,data)\n",
    "    action3=cr3.forward(agent_pos3,agent_inp_pos,data)\n",
    "    action_inp=inp.forward(agent_inp_pos,agent_pos1,agent_pos2,agent_pos3)\n",
    "    agent_pos1,agent_pos2,agent_pos3,agent_inp_pos,done,data=env.step(action1,action2,action3,action_inp)\n",
    "\n",
    "    \"\"\"if i%30==0:\n",
    "        print(action_inp)\"\"\"\n",
    "\n",
    "\n",
    "    if done==True:\n",
    "        agent_pos1,agent_pos2,agent_pos3,agent_inp_pos=env.reset()\n",
    "        i=0\n",
    "    i+=1\n",
    "\n",
    "\n",
    "\n",
    "\n",
    "    pygame.display.flip()\n"
   ]
  },
  {
   "cell_type": "code",
   "execution_count": 2,
   "metadata": {},
   "outputs": [
    {
     "data": {
      "text/plain": [
       "(2700,)"
      ]
     },
     "execution_count": 2,
     "metadata": {},
     "output_type": "execute_result"
    }
   ],
   "source": [
    "data.shape"
   ]
  },
  {
   "cell_type": "code",
   "execution_count": 29,
   "metadata": {},
   "outputs": [],
   "source": [
    "import random\n",
    "\n",
    "x=[random.randrange(1,10) for i in range(100)]\n",
    "d=np.zeros(10)\n"
   ]
  },
  {
   "cell_type": "code",
   "execution_count": 34,
   "metadata": {},
   "outputs": [
    {
     "data": {
      "text/plain": [
       "5"
      ]
     },
     "execution_count": 34,
     "metadata": {},
     "output_type": "execute_result"
    }
   ],
   "source": [
    "for b in x:\n",
    "    d[b]+=1\n",
    "np.argmax(d)+1"
   ]
  },
  {
   "cell_type": "code",
   "execution_count": 40,
   "metadata": {},
   "outputs": [
    {
     "data": {
      "text/plain": [
       "3"
      ]
     },
     "execution_count": 40,
     "metadata": {},
     "output_type": "execute_result"
    }
   ],
   "source": [
    "random.randrange(1,5)"
   ]
  },
  {
   "cell_type": "code",
   "execution_count": 42,
   "metadata": {},
   "outputs": [
    {
     "data": {
      "text/plain": [
       "4"
      ]
     },
     "execution_count": 42,
     "metadata": {},
     "output_type": "execute_result"
    }
   ],
   "source": [
    "np.abs(-4)"
   ]
  },
  {
   "cell_type": "code",
   "execution_count": 43,
   "metadata": {},
   "outputs": [
    {
     "data": {
      "text/plain": [
       "[0, 1, 2, 3]"
      ]
     },
     "execution_count": 43,
     "metadata": {},
     "output_type": "execute_result"
    }
   ],
   "source": [
    "list(range(0,4))"
   ]
  },
  {
   "cell_type": "code",
   "execution_count": 46,
   "metadata": {},
   "outputs": [
    {
     "ename": "TypeError",
     "evalue": "'<' not supported between instances of 'int' and 'list'",
     "output_type": "error",
     "traceback": [
      "\u001b[0;31m---------------------------------------------------------------------------\u001b[0m",
      "\u001b[0;31mTypeError\u001b[0m                                 Traceback (most recent call last)",
      "\u001b[0;32m<ipython-input-46-e0dbe8440eda>\u001b[0m in \u001b[0;36m<module>\u001b[0;34m\u001b[0m\n\u001b[1;32m      1\u001b[0m \u001b[0ma\u001b[0m\u001b[0;34m=\u001b[0m\u001b[0;34m[\u001b[0m\u001b[0;36m1\u001b[0m\u001b[0;34m,\u001b[0m\u001b[0;34m-\u001b[0m\u001b[0;36m1\u001b[0m\u001b[0;34m,\u001b[0m\u001b[0;36m0\u001b[0m\u001b[0;34m,\u001b[0m\u001b[0;36m0\u001b[0m\u001b[0;34m]\u001b[0m\u001b[0;34m\u001b[0m\u001b[0;34m\u001b[0m\u001b[0m\n\u001b[0;32m----> 2\u001b[0;31m \u001b[0;34m[\u001b[0m\u001b[0;36m0\u001b[0m\u001b[0;34m<\u001b[0m\u001b[0ma\u001b[0m\u001b[0;34m]\u001b[0m\u001b[0;34m\u001b[0m\u001b[0;34m\u001b[0m\u001b[0m\n\u001b[0m",
      "\u001b[0;31mTypeError\u001b[0m: '<' not supported between instances of 'int' and 'list'"
     ]
    }
   ],
   "source": [
    "a=[1,-1,0,0]\n"
   ]
  },
  {
   "cell_type": "code",
   "execution_count": 51,
   "metadata": {},
   "outputs": [
    {
     "data": {
      "text/plain": [
       "'b'"
      ]
     },
     "execution_count": 51,
     "metadata": {},
     "output_type": "execute_result"
    }
   ],
   "source": [
    "x=['a','b','c']\n",
    "x.pop(1)"
   ]
  },
  {
   "cell_type": "code",
   "execution_count": null,
   "metadata": {},
   "outputs": [],
   "source": []
  }
 ],
 "metadata": {
  "kernelspec": {
   "display_name": "Python 3",
   "language": "python",
   "name": "python3"
  },
  "language_info": {
   "codemirror_mode": {
    "name": "ipython",
    "version": 3
   },
   "file_extension": ".py",
   "mimetype": "text/x-python",
   "name": "python",
   "nbconvert_exporter": "python",
   "pygments_lexer": "ipython3",
   "version": "3.7.3"
  }
 },
 "nbformat": 4,
 "nbformat_minor": 2
}
